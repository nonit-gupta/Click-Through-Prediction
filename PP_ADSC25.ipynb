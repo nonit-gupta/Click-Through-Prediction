{
 "cells": [
  {
   "cell_type": "code",
   "execution_count": null,
   "id": "cadfc675",
   "metadata": {
    "_cell_guid": "b1076dfc-b9ad-4769-8c92-a6c4dae69d19",
    "_uuid": "8f2839f25d086af736a60e9eeb907d3b93b6e0e5",
    "execution": {
     "iopub.execute_input": "2025-07-07T16:41:37.202526Z",
     "iopub.status.busy": "2025-07-07T16:41:37.202203Z",
     "iopub.status.idle": "2025-07-07T16:41:49.308799Z",
     "shell.execute_reply": "2025-07-07T16:41:49.307496Z"
    },
    "papermill": {
     "duration": 12.117582,
     "end_time": "2025-07-07T16:41:49.310823",
     "exception": false,
     "start_time": "2025-07-07T16:41:37.193241",
     "status": "completed"
    },
    "tags": []
   },
   "outputs": [],
   "source": [
    "# Library import\n",
    "import numpy as np\n",
    "import pandas as pd\n",
    "import os\n",
    "from scipy import stats\n",
    "from sklearn.model_selection import train_test_split\n",
    "from sklearn.preprocessing import StandardScaler, MinMaxScaler\n",
    "from sklearn.metrics import classification_report, roc_auc_score, average_precision_score, accuracy_score, matthews_corrcoef\n",
    "from sklearn.utils.class_weight import compute_class_weight\n",
    "from sklearn.impute import SimpleImputer\n",
    "from sklearn.tree import DecisionTreeClassifier\n",
    "from sklearn.ensemble import RandomForestClassifier, ExtraTreesClassifier, GradientBoostingClassifier\n",
    "from sklearn.linear_model import LogisticRegression\n",
    "from sklearn.naive_bayes import GaussianNB, MultinomialNB, BernoulliNB\n",
    "from sklearn.neighbors import KNeighborsClassifier\n",
    "from xgboost import XGBClassifier\n",
    "from lightgbm import LGBMClassifier\n",
    "from catboost import CatBoostClassifier\n",
    "import matplotlib.pyplot as plt\n",
    "from datetime import datetime, timedelta\n",
    "from sklearn.preprocessing import LabelEncoder\n",
    "import matplotlib.pyplot as plt\n",
    "import seaborn as sns\n",
    "import warnings\n",
    "warnings.filterwarnings(\"ignore\", category=FutureWarning)"
   ]
  },
  {
   "cell_type": "code",
   "execution_count": null,
   "id": "e23336e0",
   "metadata": {
    "execution": {
     "iopub.execute_input": "2025-07-07T16:41:49.326291Z",
     "iopub.status.busy": "2025-07-07T16:41:49.324967Z",
     "iopub.status.idle": "2025-07-07T16:42:39.868769Z",
     "shell.execute_reply": "2025-07-07T16:42:39.867705Z"
    },
    "papermill": {
     "duration": 50.552957,
     "end_time": "2025-07-07T16:42:39.870623",
     "exception": false,
     "start_time": "2025-07-07T16:41:49.317666",
     "status": "completed"
    },
    "tags": []
   },
   "outputs": [],
   "source": [
    "# Reading files\n",
    "path = '/kaggle/input/amex-data/'\n",
    "train = pd.read_parquet(f\"{path}train_data.parquet\", engine='pyarrow')\n",
    "test = pd.read_parquet(f\"{path}test_data.parquet\", engine='pyarrow')\n",
    "events = pd.read_parquet(f\"{path}add_event.parquet\", engine='pyarrow')\n",
    "transactions = pd.read_parquet(f\"{path}add_trans.parquet\", engine='pyarrow')\n",
    "offers = pd.read_parquet(f\"{path}offer_metadata.parquet\", engine='pyarrow')"
   ]
  },
  {
   "cell_type": "code",
   "execution_count": 3,
   "id": "288e11f2",
   "metadata": {
    "execution": {
     "iopub.execute_input": "2025-07-07T16:42:39.884523Z",
     "iopub.status.busy": "2025-07-07T16:42:39.884195Z",
     "iopub.status.idle": "2025-07-07T16:42:52.778450Z",
     "shell.execute_reply": "2025-07-07T16:42:52.777079Z"
    },
    "papermill": {
     "duration": 12.903612,
     "end_time": "2025-07-07T16:42:52.780770",
     "exception": false,
     "start_time": "2025-07-07T16:42:39.877158",
     "status": "completed"
    },
    "tags": []
   },
   "outputs": [],
   "source": [
    "train['id3'] = pd.to_numeric(train['id3'], errors='coerce').astype('Int64')\n",
    "test['id3'] = pd.to_numeric(test['id3'], errors='coerce').astype('Int64')\n",
    "events['id3'] = pd.to_numeric(events['id3'], errors='coerce').astype('Int64')\n",
    "train['id4'] = pd.to_datetime(train['id4'], errors='coerce')\n",
    "test['id4'] = pd.to_datetime(test['id4'], errors='coerce')"
   ]
  },
  {
   "cell_type": "code",
   "execution_count": null,
   "id": "ecb356dc",
   "metadata": {
    "execution": {
     "iopub.execute_input": "2025-07-07T16:42:52.794933Z",
     "iopub.status.busy": "2025-07-07T16:42:52.794534Z",
     "iopub.status.idle": "2025-07-07T16:43:18.793407Z",
     "shell.execute_reply": "2025-07-07T16:43:18.792007Z"
    },
    "papermill": {
     "duration": 26.008123,
     "end_time": "2025-07-07T16:43:18.795402",
     "exception": false,
     "start_time": "2025-07-07T16:42:52.787279",
     "status": "completed"
    },
    "tags": []
   },
   "outputs": [],
   "source": [
    "# Decoding the one-hot encoded columns\n",
    "one_hot_cols = [f'f{i}' for i in range(226,310)]\n",
    "\n",
    "train[one_hot_cols] = train[one_hot_cols].fillna(0)\n",
    "test[one_hot_cols] = test[one_hot_cols].fillna(0)\n",
    "\n",
    "train['compressed_info'] = train[one_hot_cols].values.argmax(axis=1)\n",
    "train.drop(columns=one_hot_cols, inplace=True)\n",
    "\n",
    "test['compressed_info'] = test[one_hot_cols].values.argmax(axis=1)\n",
    "test.drop(columns=one_hot_cols, inplace=True)"
   ]
  },
  {
   "cell_type": "code",
   "execution_count": null,
   "id": "4afefa81",
   "metadata": {
    "execution": {
     "iopub.execute_input": "2025-07-07T16:43:18.810131Z",
     "iopub.status.busy": "2025-07-07T16:43:18.809754Z",
     "iopub.status.idle": "2025-07-07T16:43:44.454253Z",
     "shell.execute_reply": "2025-07-07T16:43:44.452811Z"
    },
    "papermill": {
     "duration": 25.653833,
     "end_time": "2025-07-07T16:43:44.456329",
     "exception": false,
     "start_time": "2025-07-07T16:43:18.802496",
     "status": "completed"
    },
    "tags": []
   },
   "outputs": [],
   "source": [
    "# Feature created - 1\n",
    "events['id4'] = pd.to_datetime(events['id4'], errors='coerce')\n",
    "events['id7'] = pd.to_datetime(events['id7'], errors='coerce')\n",
    "clicked = events.dropna(subset=['id7']).copy()\n",
    "clicked['click_delay'] = (clicked['id7'] - clicked['id4']).dt.total_seconds()\n",
    "clicked = clicked[clicked['click_delay'].notnull() & (clicked['click_delay'] >= 0)]\n",
    "avg_click_delay = clicked.groupby('id3')['click_delay'].median().reset_index()\n",
    "avg_click_delay.rename(columns={'click_delay': 'avg_click_delay_per_offer'}, inplace=True)\n",
    "train = train.merge(avg_click_delay, on='id3', how='left')\n",
    "test = test.merge(avg_click_delay, on='id3', how='left')"
   ]
  },
  {
   "cell_type": "code",
   "execution_count": null,
   "id": "159b988c",
   "metadata": {
    "execution": {
     "iopub.execute_input": "2025-07-07T16:43:44.470994Z",
     "iopub.status.busy": "2025-07-07T16:43:44.470665Z",
     "iopub.status.idle": "2025-07-07T16:43:44.642181Z",
     "shell.execute_reply": "2025-07-07T16:43:44.640873Z"
    },
    "papermill": {
     "duration": 0.181065,
     "end_time": "2025-07-07T16:43:44.644106",
     "exception": false,
     "start_time": "2025-07-07T16:43:44.463041",
     "status": "completed"
    },
    "tags": []
   },
   "outputs": [],
   "source": [
    "encoders = {}\n",
    "\n",
    "# Feature 2: f378\n",
    "non_null_mask = offers['f378'].notnull()\n",
    "le_378 = LabelEncoder()\n",
    "offers.loc[non_null_mask, 'f378_enc'] = le_378.fit_transform(offers.loc[non_null_mask, 'f378'])\n",
    "encoders['f378'] = le_378\n",
    "f378_mean_by_id3 = offers.groupby('id3')['f378_enc'].mean()\n",
    "train['f378_enc_mean'] = train['id3'].map(f378_mean_by_id3)\n",
    "test['f378_enc_mean'] = test['id3'].map(f378_mean_by_id3)\n",
    "\n",
    "# Feature 3: f375\n",
    "non_null_mask = offers['f375'].notnull()\n",
    "le_375 = LabelEncoder()\n",
    "offers.loc[non_null_mask, 'f375_enc'] = le_375.fit_transform(offers.loc[non_null_mask, 'f375'])\n",
    "encoders['f375'] = le_375\n",
    "f375_mean_by_id3 = offers.groupby('id3')['f375_enc'].mean()\n",
    "train['f375_enc_mean'] = train['id3'].map(f375_mean_by_id3)\n",
    "test['f375_enc_mean'] = test['id3'].map(f375_mean_by_id3)\n",
    "\n",
    "# Feature 4: f376\n",
    "non_null_mask = offers['f376'].notnull()\n",
    "le_376 = LabelEncoder()\n",
    "offers.loc[non_null_mask, 'f376_enc'] = le_376.fit_transform(offers.loc[non_null_mask, 'f376'])\n",
    "encoders['f376'] = le_376\n",
    "f376_mean_by_id3 = offers.groupby('id3')['f376_enc'].mean()\n",
    "train['f376_enc_mean'] = train['id3'].map(f376_mean_by_id3)\n",
    "test['f376_enc_mean'] = test['id3'].map(f376_mean_by_id3)\n",
    "\n",
    "# Feature 5: f374\n",
    "non_null_mask = offers['f374'].notnull()\n",
    "le_374 = LabelEncoder()\n",
    "offers.loc[non_null_mask, 'f374_enc'] = le_374.fit_transform(offers.loc[non_null_mask, 'f374'])\n",
    "encoders['f374'] = le_374\n",
    "f374_mean_by_id3 = offers.groupby('id3')['f374_enc'].mean()\n",
    "train['f374_enc_mean'] = train['id3'].map(f374_mean_by_id3)\n",
    "test['f374_enc_mean'] = test['id3'].map(f374_mean_by_id3)\n",
    "\n",
    "# Feature 6: id8 (with top N filtering)\n",
    "offers['id8'] = offers['id8'].astype(str)\n",
    "top_9 = offers['id8'].value_counts().nlargest(4).index\n",
    "offers['id8_mod'] = offers['id8'].where(offers['id8'].isin(top_9), '99999999')\n",
    "le_id8 = LabelEncoder()\n",
    "offers['id8_encoded'] = le_id8.fit_transform(offers['id8_mod'])\n",
    "encoders['id8'] = le_id8\n",
    "id8_avg_by_id3 = offers.groupby('id3')['id8_encoded'].mean()\n",
    "train['id8_encoded_avg'] = train['id3'].map(id8_avg_by_id3)\n",
    "test['id8_encoded_avg'] = test['id3'].map(id8_avg_by_id3)"
   ]
  },
  {
   "cell_type": "code",
   "execution_count": null,
   "id": "6572783e",
   "metadata": {
    "execution": {
     "iopub.execute_input": "2025-07-07T16:43:44.657907Z",
     "iopub.status.busy": "2025-07-07T16:43:44.657535Z",
     "iopub.status.idle": "2025-07-07T16:44:23.186465Z",
     "shell.execute_reply": "2025-07-07T16:44:23.185398Z"
    },
    "papermill": {
     "duration": 38.537911,
     "end_time": "2025-07-07T16:44:23.188409",
     "exception": false,
     "start_time": "2025-07-07T16:43:44.650498",
     "status": "completed"
    },
    "tags": []
   },
   "outputs": [],
   "source": [
    "# Feature 7\n",
    "events_subset = events[['id2', 'id3', 'id4']].drop_duplicates(subset=['id3', 'id4'])\n",
    "train = train.merge(events_subset, on=['id3', 'id4'], how='left', suffixes=('', '_from_events'))\n",
    "test = test.merge(events_subset, on=['id3', 'id4'], how='left', suffixes=('', '_from_events'))"
   ]
  },
  {
   "cell_type": "code",
   "execution_count": 8,
   "id": "d917686d",
   "metadata": {
    "execution": {
     "iopub.execute_input": "2025-07-07T16:44:23.202741Z",
     "iopub.status.busy": "2025-07-07T16:44:23.202387Z",
     "iopub.status.idle": "2025-07-07T16:44:35.038632Z",
     "shell.execute_reply": "2025-07-07T16:44:35.037554Z"
    },
    "papermill": {
     "duration": 11.845313,
     "end_time": "2025-07-07T16:44:35.040567",
     "exception": false,
     "start_time": "2025-07-07T16:44:23.195254",
     "status": "completed"
    },
    "tags": []
   },
   "outputs": [],
   "source": [
    "def safe_mode(series):\n",
    "    mode_vals = series.mode()\n",
    "    return mode_vals[0] if not mode_vals.empty else np.nan\n",
    "\n",
    "# Aggregate transaction features grouped by id2\n",
    "agg_transactions = transactions.groupby('id2').agg({\n",
    "    'f367': ['mean', 'sum', 'count'],\n",
    "    'f368': 'nunique',\n",
    "    'f369': 'nunique'\n",
    "}).reset_index()\n",
    "\n",
    "# Rename flattened columns\n",
    "agg_transactions.columns = ['id2', 'f367_mean', 'f367_sum', 'num_transactions',\n",
    "                            'num_products', 'num_debit_credit_types']\n",
    "\n",
    "# Rename id2 to avoid conflict during merge\n",
    "agg_transactions.rename(columns={'id2': 'id2_transactions'}, inplace=True)\n",
    "\n",
    "# Merge with train\n",
    "train = train.merge(agg_transactions, left_on='id2_from_events', right_on='id2_transactions', how='left')\n",
    "train.drop(columns='id2_transactions', inplace=True)\n",
    "\n",
    "# Merge with test\n",
    "test = test.merge(agg_transactions, left_on='id2_from_events', right_on='id2_transactions', how='left')\n",
    "test.drop(columns='id2_transactions', inplace=True)"
   ]
  },
  {
   "cell_type": "code",
   "execution_count": null,
   "id": "5975fdac",
   "metadata": {
    "execution": {
     "iopub.execute_input": "2025-07-07T16:44:35.054565Z",
     "iopub.status.busy": "2025-07-07T16:44:35.054225Z",
     "iopub.status.idle": "2025-07-07T16:44:48.597706Z",
     "shell.execute_reply": "2025-07-07T16:44:48.596609Z"
    },
    "papermill": {
     "duration": 13.553021,
     "end_time": "2025-07-07T16:44:48.599955",
     "exception": false,
     "start_time": "2025-07-07T16:44:35.046934",
     "status": "completed"
    },
    "tags": []
   },
   "outputs": [],
   "source": [
    "# Dropping columns with more than 80% missing values\n",
    "threshold = 0.8\n",
    "missing_ratio = train.isnull().mean()\n",
    "columns_to_keep = missing_ratio[missing_ratio <= threshold].index\n",
    "train = train[columns_to_keep]\n",
    "test = test[columns_to_keep.drop('y', errors='ignore')]"
   ]
  },
  {
   "cell_type": "code",
   "execution_count": 10,
   "id": "bcbdbe51",
   "metadata": {
    "execution": {
     "iopub.execute_input": "2025-07-07T16:44:48.613995Z",
     "iopub.status.busy": "2025-07-07T16:44:48.613656Z",
     "iopub.status.idle": "2025-07-07T16:45:44.404002Z",
     "shell.execute_reply": "2025-07-07T16:45:44.402045Z"
    },
    "papermill": {
     "duration": 55.802476,
     "end_time": "2025-07-07T16:45:44.409159",
     "exception": false,
     "start_time": "2025-07-07T16:44:48.606683",
     "status": "completed"
    },
    "tags": []
   },
   "outputs": [],
   "source": [
    "y = train['y'].astype(int)\n",
    "X = train.drop(columns=['y', 'id1', 'id2', 'id3', 'id4', 'id5', 'id8_encoded_avg', 'id2_from_events'])\n",
    "X = X.apply(pd.to_numeric, errors='ignore')"
   ]
  },
  {
   "cell_type": "code",
   "execution_count": null,
   "id": "5f8a098d",
   "metadata": {
    "execution": {
     "iopub.execute_input": "2025-07-07T16:45:44.453740Z",
     "iopub.status.busy": "2025-07-07T16:45:44.453360Z",
     "iopub.status.idle": "2025-07-07T16:46:47.667108Z",
     "shell.execute_reply": "2025-07-07T16:46:47.665622Z"
    },
    "papermill": {
     "duration": 63.225287,
     "end_time": "2025-07-07T16:46:47.669293",
     "exception": false,
     "start_time": "2025-07-07T16:45:44.444006",
     "status": "completed"
    },
    "tags": []
   },
   "outputs": [],
   "source": [
    "cat_cols = X.select_dtypes(include=['object', 'category']).columns.tolist()\n",
    "numerical_cols = X.select_dtypes(include=[np.number]).columns.difference(cat_cols).tolist()\n",
    "X_train, X_test, y_train, y_test = train_test_split(X, y, test_size=0.25, stratify=y, random_state=42)\n",
    "\n",
    "encoders = {}\n",
    "\n",
    "for col in cat_cols:\n",
    "    le = LabelEncoder()\n",
    "    non_null_mask = X_train[col].notnull()\n",
    "    le.fit(X_train.loc[non_null_mask, col])\n",
    "    X_train.loc[non_null_mask, col] = le.transform(X_train.loc[non_null_mask, col])\n",
    "    X_train[col] = X_train[col].astype(float)\n",
    "    encoders[col] = le\n",
    "\n",
    "for col in cat_cols:\n",
    "    le = encoders[col]\n",
    "    non_null_mask = X_test[col].notnull()\n",
    "    X_test.loc[non_null_mask, col] = X_test.loc[non_null_mask, col].map(\n",
    "        lambda x: le.transform([x])[0] if x in le.classes_ else np.nan)\n",
    "    X_test[col] = X_test[col].astype(float)\n",
    "\n",
    "for col in cat_cols:\n",
    "    le = encoders[col]\n",
    "    non_null_mask = test[col].notnull()\n",
    "    test.loc[non_null_mask, col] = test.loc[non_null_mask, col].map(\n",
    "        lambda x: le.transform([x])[0] if x in le.classes_ else np.nan)\n",
    "    test[col] = test[col].astype(float)"
   ]
  },
  {
   "cell_type": "code",
   "execution_count": null,
   "id": "dcc573bf",
   "metadata": {
    "execution": {
     "iopub.execute_input": "2025-07-07T16:46:47.684337Z",
     "iopub.status.busy": "2025-07-07T16:46:47.683960Z",
     "iopub.status.idle": "2025-07-07T16:46:57.336736Z",
     "shell.execute_reply": "2025-07-07T16:46:57.335505Z"
    },
    "papermill": {
     "duration": 9.662687,
     "end_time": "2025-07-07T16:46:57.338896",
     "exception": false,
     "start_time": "2025-07-07T16:46:47.676209",
     "status": "completed"
    },
    "tags": []
   },
   "outputs": [],
   "source": [
    "imputer = SimpleImputer(strategy='mean')\n",
    "X_train_imputed = pd.DataFrame(imputer.fit_transform(X_train[numerical_cols]), columns=numerical_cols, index=X_train.index)\n",
    "X_test_imputed = pd.DataFrame(imputer.transform(X_test[numerical_cols]), columns=numerical_cols, index=X_test.index)\n",
    "X_train[numerical_cols] = X_train_imputed\n",
    "X_test[numerical_cols] = X_test_imputed\n",
    "test[numerical_cols] = imputer.transform(test[numerical_cols])"
   ]
  },
  {
   "cell_type": "code",
   "execution_count": null,
   "id": "a36e6ec2",
   "metadata": {
    "execution": {
     "iopub.execute_input": "2025-07-07T16:46:57.352917Z",
     "iopub.status.busy": "2025-07-07T16:46:57.352608Z",
     "iopub.status.idle": "2025-07-07T16:46:57.904723Z",
     "shell.execute_reply": "2025-07-07T16:46:57.903559Z"
    },
    "papermill": {
     "duration": 0.561304,
     "end_time": "2025-07-07T16:46:57.906714",
     "exception": false,
     "start_time": "2025-07-07T16:46:57.345410",
     "status": "completed"
    },
    "tags": []
   },
   "outputs": [],
   "source": [
    "cat_imputer = SimpleImputer(strategy='most_frequent')\n",
    "X_train[cat_cols] = cat_imputer.fit_transform(X_train[cat_cols])\n",
    "X_test[cat_cols] = cat_imputer.transform(X_test[cat_cols])\n",
    "test[cat_cols] = cat_imputer.transform(test[cat_cols])"
   ]
  },
  {
   "cell_type": "code",
   "execution_count": null,
   "id": "a249e3f0",
   "metadata": {
    "execution": {
     "iopub.execute_input": "2025-07-07T16:46:57.923210Z",
     "iopub.status.busy": "2025-07-07T16:46:57.922206Z",
     "iopub.status.idle": "2025-07-07T16:47:01.578209Z",
     "shell.execute_reply": "2025-07-07T16:47:01.577200Z"
    },
    "papermill": {
     "duration": 3.666456,
     "end_time": "2025-07-07T16:47:01.580028",
     "exception": false,
     "start_time": "2025-07-07T16:46:57.913572",
     "status": "completed"
    },
    "tags": []
   },
   "outputs": [],
   "source": [
    "scaler_standard = MinMaxScaler()\n",
    "X_train[numerical_cols] = scaler_standard.fit_transform(X_train[numerical_cols])\n",
    "X_test[numerical_cols] = scaler_standard.transform(X_test[numerical_cols])\n",
    "test[numerical_cols] = scaler_standard.transform(test[numerical_cols])"
   ]
  },
  {
   "cell_type": "code",
   "execution_count": 16,
   "id": "921b2db6",
   "metadata": {
    "execution": {
     "iopub.execute_input": "2025-07-07T16:47:01.594273Z",
     "iopub.status.busy": "2025-07-07T16:47:01.593856Z",
     "iopub.status.idle": "2025-07-07T16:47:01.602467Z",
     "shell.execute_reply": "2025-07-07T16:47:01.601294Z"
    },
    "papermill": {
     "duration": 0.01924,
     "end_time": "2025-07-07T16:47:01.605702",
     "exception": false,
     "start_time": "2025-07-07T16:47:01.586462",
     "status": "completed"
    },
    "tags": []
   },
   "outputs": [
    {
     "data": {
      "text/plain": [
       "(577623, 255)"
      ]
     },
     "execution_count": 16,
     "metadata": {},
     "output_type": "execute_result"
    }
   ],
   "source": [
    "X_train.shape"
   ]
  },
  {
   "cell_type": "code",
   "execution_count": null,
   "id": "4912ad99",
   "metadata": {
    "execution": {
     "iopub.execute_input": "2025-07-07T16:47:01.620169Z",
     "iopub.status.busy": "2025-07-07T16:47:01.619770Z",
     "iopub.status.idle": "2025-07-07T16:47:21.357260Z",
     "shell.execute_reply": "2025-07-07T16:47:21.356175Z"
    },
    "papermill": {
     "duration": 19.747064,
     "end_time": "2025-07-07T16:47:21.359486",
     "exception": false,
     "start_time": "2025-07-07T16:47:01.612422",
     "status": "completed"
    },
    "tags": []
   },
   "outputs": [],
   "source": [
    "from sklearn.decomposition import PCA\n",
    "pca = PCA(n_components=0.95)\n",
    "X_train = pca.fit_transform(X_train)\n",
    "X_test = pca.transform(X_test)\n",
    "test = pca.transform(test)"
   ]
  },
  {
   "cell_type": "code",
   "execution_count": 18,
   "id": "a24b33f3",
   "metadata": {
    "execution": {
     "iopub.execute_input": "2025-07-07T16:47:21.374141Z",
     "iopub.status.busy": "2025-07-07T16:47:21.373759Z",
     "iopub.status.idle": "2025-07-07T16:47:21.380078Z",
     "shell.execute_reply": "2025-07-07T16:47:21.378989Z"
    },
    "papermill": {
     "duration": 0.015872,
     "end_time": "2025-07-07T16:47:21.382169",
     "exception": false,
     "start_time": "2025-07-07T16:47:21.366297",
     "status": "completed"
    },
    "tags": []
   },
   "outputs": [
    {
     "data": {
      "text/plain": [
       "(577623, 22)"
      ]
     },
     "execution_count": 18,
     "metadata": {},
     "output_type": "execute_result"
    }
   ],
   "source": [
    "X_train.shape"
   ]
  },
  {
   "cell_type": "code",
   "execution_count": 19,
   "id": "76e13015",
   "metadata": {
    "execution": {
     "iopub.execute_input": "2025-07-07T16:47:21.396935Z",
     "iopub.status.busy": "2025-07-07T16:47:21.396599Z",
     "iopub.status.idle": "2025-07-07T16:47:21.488979Z",
     "shell.execute_reply": "2025-07-07T16:47:21.487870Z"
    },
    "papermill": {
     "duration": 0.10231,
     "end_time": "2025-07-07T16:47:21.491045",
     "exception": false,
     "start_time": "2025-07-07T16:47:21.388735",
     "status": "completed"
    },
    "tags": []
   },
   "outputs": [],
   "source": [
    "classes = np.unique(y_train)\n",
    "class_weights = compute_class_weight(class_weight='balanced', classes=classes, y=y_train)\n",
    "class_weight_dict = dict(zip(classes, class_weights))\n",
    "\n",
    "models = {\n",
    "    \"CatBoost\": CatBoostClassifier(verbose=0, random_state=42, class_weights=class_weight_dict),\n",
    "    \"LightGBM\": LGBMClassifier(class_weight=class_weight_dict, random_state=42),\n",
    "    \"XGBoost\": XGBClassifier(use_label_encoder=False, scale_pos_weight=class_weight_dict[1] / class_weight_dict[0], random_state=42),\n",
    "    \"Decision Tree\": DecisionTreeClassifier(class_weight=class_weight_dict, random_state=42),\n",
    "    \"Random Forest\": RandomForestClassifier(n_estimators=200, class_weight=class_weight_dict, random_state=42),\n",
    "    \"Extra Trees\": ExtraTreesClassifier(n_estimators=200, class_weight=class_weight_dict, random_state=42)\n",
    "}"
   ]
  },
  {
   "cell_type": "code",
   "execution_count": 20,
   "id": "43cd09ee",
   "metadata": {
    "execution": {
     "iopub.execute_input": "2025-07-07T16:47:21.505909Z",
     "iopub.status.busy": "2025-07-07T16:47:21.505504Z",
     "iopub.status.idle": "2025-07-07T17:12:49.254839Z",
     "shell.execute_reply": "2025-07-07T17:12:49.253376Z"
    },
    "papermill": {
     "duration": 1527.759678,
     "end_time": "2025-07-07T17:12:49.257405",
     "exception": false,
     "start_time": "2025-07-07T16:47:21.497727",
     "status": "completed"
    },
    "tags": []
   },
   "outputs": [
    {
     "name": "stdout",
     "output_type": "stream",
     "text": [
      "========================================CatBoost model start========================================\n",
      "========================================CatBoost model end========================================\n",
      "========================================LightGBM model start========================================\n",
      "[LightGBM] [Info] Number of positive: 27788, number of negative: 549835\n",
      "[LightGBM] [Info] Auto-choosing col-wise multi-threading, the overhead of testing was 0.081171 seconds.\n",
      "You can set `force_col_wise=true` to remove the overhead.\n",
      "[LightGBM] [Info] Total Bins 5610\n",
      "[LightGBM] [Info] Number of data points in the train set: 577623, number of used features: 22\n",
      "[LightGBM] [Info] [binary:BoostFromScore]: pavg=0.500000 -> initscore=0.000000\n",
      "[LightGBM] [Info] Start training from score 0.000000\n",
      "========================================LightGBM model end========================================\n",
      "========================================XGBoost model start========================================\n",
      "========================================XGBoost model end========================================\n",
      "========================================Decision Tree model start========================================\n",
      "========================================Decision Tree model end========================================\n",
      "========================================Random Forest model start========================================\n",
      "========================================Random Forest model end========================================\n",
      "========================================Extra Trees model start========================================\n",
      "========================================Extra Trees model end========================================\n",
      "========================================Ensemble model start========================================\n",
      "========================================Ensemble model end========================================\n"
     ]
    }
   ],
   "source": [
    "results = []\n",
    "\n",
    "for name, model in models.items():\n",
    "    print('='*40, name, ' model start', '='*40, sep='')\n",
    "    model.fit(X_train, y_train)\n",
    "    y_pred = model.predict(X_test)\n",
    "    y_proba = model.predict_proba(X_test)[:, 1]\n",
    "\n",
    "    report = classification_report(y_test, y_pred, output_dict=True)\n",
    "    roc_auc = roc_auc_score(y_test, y_proba)\n",
    "    pr_auc = average_precision_score(y_test, y_proba)\n",
    "    acc = accuracy_score(y_test, y_pred)\n",
    "    mcc = matthews_corrcoef(y_test, y_pred)\n",
    "\n",
    "    results.append({\n",
    "        \"Model\": name,\n",
    "        \"Accuracy\": acc,\n",
    "        \"F1-Score\": report[\"1\"][\"f1-score\"],\n",
    "        \"Precision\": report[\"1\"][\"precision\"],\n",
    "        \"Recall\": report[\"1\"][\"recall\"],\n",
    "        \"ROC AUC\": roc_auc,\n",
    "        \"PR AUC\": pr_auc,\n",
    "        \"MCC\": mcc\n",
    "    })\n",
    "\n",
    "    print('='*40, name, ' model end', '='*40, sep='')\n",
    "\n",
    "results_initial = pd.DataFrame(results).sort_values(by=\"Precision\", ascending=False).reset_index(drop=True)\n",
    "print('='*40,'Ensemble model start', '='*40, sep='')\n",
    "probas = {\n",
    "    name: model.predict_proba(X_test)[:, 1] for name, model in models.items()\n",
    "}\n",
    "\n",
    "results_initial['custom_weight'] = results_initial['Precision'].where(results_initial['Precision'] >= 0.9, 0)\n",
    "weights = (results_initial.set_index('Model')['custom_weight'] / results_initial['custom_weight'].sum()).to_dict()\n",
    "\n",
    "ensemble_proba = sum(weights[name] * probas[name] for name in models)\n",
    "ensemble_pred = (ensemble_proba >= 0.5).astype(int)\n",
    "ensemble_report = classification_report(y_test, ensemble_pred, output_dict=True)\n",
    "ensemble_roc_auc = roc_auc_score(y_test, ensemble_proba)\n",
    "ensemble_pr_auc = average_precision_score(y_test, ensemble_proba)\n",
    "ensemble_acc = accuracy_score(y_test, ensemble_pred)\n",
    "ensemble_mcc = matthews_corrcoef(y_test, ensemble_pred)\n",
    "\n",
    "results.append({\n",
    "    \"Model\": \"Ensemble\",\n",
    "    \"Accuracy\": ensemble_acc,\n",
    "    \"F1-Score\": ensemble_report[\"1\"][\"f1-score\"],\n",
    "    \"Precision\": ensemble_report[\"1\"][\"precision\"],\n",
    "    \"Recall\": ensemble_report[\"1\"][\"recall\"],\n",
    "    \"ROC AUC\": ensemble_roc_auc,\n",
    "    \"PR AUC\": ensemble_pr_auc,\n",
    "    \"MCC\": ensemble_mcc\n",
    "})\n",
    "print('='*40,'Ensemble model end', '='*40, sep='')\n",
    "results_df = pd.DataFrame(results).sort_values(by=\"Precision\", ascending=False).reset_index(drop=True)"
   ]
  },
  {
   "cell_type": "code",
   "execution_count": 21,
   "id": "77eeec72",
   "metadata": {
    "execution": {
     "iopub.execute_input": "2025-07-07T17:12:49.274491Z",
     "iopub.status.busy": "2025-07-07T17:12:49.274072Z",
     "iopub.status.idle": "2025-07-07T17:12:49.306974Z",
     "shell.execute_reply": "2025-07-07T17:12:49.305914Z"
    },
    "papermill": {
     "duration": 0.043562,
     "end_time": "2025-07-07T17:12:49.308712",
     "exception": false,
     "start_time": "2025-07-07T17:12:49.265150",
     "status": "completed"
    },
    "tags": []
   },
   "outputs": [
    {
     "data": {
      "text/html": [
       "<div>\n",
       "<style scoped>\n",
       "    .dataframe tbody tr th:only-of-type {\n",
       "        vertical-align: middle;\n",
       "    }\n",
       "\n",
       "    .dataframe tbody tr th {\n",
       "        vertical-align: top;\n",
       "    }\n",
       "\n",
       "    .dataframe thead th {\n",
       "        text-align: right;\n",
       "    }\n",
       "</style>\n",
       "<table border=\"1\" class=\"dataframe\">\n",
       "  <thead>\n",
       "    <tr style=\"text-align: right;\">\n",
       "      <th></th>\n",
       "      <th>Model</th>\n",
       "      <th>Accuracy</th>\n",
       "      <th>F1-Score</th>\n",
       "      <th>Precision</th>\n",
       "      <th>Recall</th>\n",
       "      <th>ROC AUC</th>\n",
       "      <th>PR AUC</th>\n",
       "      <th>MCC</th>\n",
       "    </tr>\n",
       "  </thead>\n",
       "  <tbody>\n",
       "    <tr>\n",
       "      <th>0</th>\n",
       "      <td>Ensemble</td>\n",
       "      <td>0.980617</td>\n",
       "      <td>0.750934</td>\n",
       "      <td>0.983395</td>\n",
       "      <td>0.607363</td>\n",
       "      <td>0.992392</td>\n",
       "      <td>0.920302</td>\n",
       "      <td>0.764822</td>\n",
       "    </tr>\n",
       "    <tr>\n",
       "      <th>1</th>\n",
       "      <td>Extra Trees</td>\n",
       "      <td>0.980352</td>\n",
       "      <td>0.746872</td>\n",
       "      <td>0.982225</td>\n",
       "      <td>0.602505</td>\n",
       "      <td>0.991021</td>\n",
       "      <td>0.914220</td>\n",
       "      <td>0.761178</td>\n",
       "    </tr>\n",
       "    <tr>\n",
       "      <th>2</th>\n",
       "      <td>Random Forest</td>\n",
       "      <td>0.980311</td>\n",
       "      <td>0.746811</td>\n",
       "      <td>0.979159</td>\n",
       "      <td>0.603584</td>\n",
       "      <td>0.991853</td>\n",
       "      <td>0.911830</td>\n",
       "      <td>0.760604</td>\n",
       "    </tr>\n",
       "    <tr>\n",
       "      <th>3</th>\n",
       "      <td>Decision Tree</td>\n",
       "      <td>0.974873</td>\n",
       "      <td>0.729570</td>\n",
       "      <td>0.756462</td>\n",
       "      <td>0.704523</td>\n",
       "      <td>0.846530</td>\n",
       "      <td>0.547161</td>\n",
       "      <td>0.716910</td>\n",
       "    </tr>\n",
       "    <tr>\n",
       "      <th>4</th>\n",
       "      <td>CatBoost</td>\n",
       "      <td>0.971731</td>\n",
       "      <td>0.764444</td>\n",
       "      <td>0.637966</td>\n",
       "      <td>0.953471</td>\n",
       "      <td>0.995648</td>\n",
       "      <td>0.943204</td>\n",
       "      <td>0.767204</td>\n",
       "    </tr>\n",
       "    <tr>\n",
       "      <th>5</th>\n",
       "      <td>XGBoost</td>\n",
       "      <td>0.953023</td>\n",
       "      <td>0.663317</td>\n",
       "      <td>0.506192</td>\n",
       "      <td>0.961891</td>\n",
       "      <td>0.993518</td>\n",
       "      <td>0.916792</td>\n",
       "      <td>0.679007</td>\n",
       "    </tr>\n",
       "    <tr>\n",
       "      <th>6</th>\n",
       "      <td>LightGBM</td>\n",
       "      <td>0.919456</td>\n",
       "      <td>0.538232</td>\n",
       "      <td>0.371613</td>\n",
       "      <td>0.975710</td>\n",
       "      <td>0.988784</td>\n",
       "      <td>0.857148</td>\n",
       "      <td>0.574809</td>\n",
       "    </tr>\n",
       "  </tbody>\n",
       "</table>\n",
       "</div>"
      ],
      "text/plain": [
       "           Model  Accuracy  F1-Score  Precision    Recall   ROC AUC    PR AUC  \\\n",
       "0       Ensemble  0.980617  0.750934   0.983395  0.607363  0.992392  0.920302   \n",
       "1    Extra Trees  0.980352  0.746872   0.982225  0.602505  0.991021  0.914220   \n",
       "2  Random Forest  0.980311  0.746811   0.979159  0.603584  0.991853  0.911830   \n",
       "3  Decision Tree  0.974873  0.729570   0.756462  0.704523  0.846530  0.547161   \n",
       "4       CatBoost  0.971731  0.764444   0.637966  0.953471  0.995648  0.943204   \n",
       "5        XGBoost  0.953023  0.663317   0.506192  0.961891  0.993518  0.916792   \n",
       "6       LightGBM  0.919456  0.538232   0.371613  0.975710  0.988784  0.857148   \n",
       "\n",
       "        MCC  \n",
       "0  0.764822  \n",
       "1  0.761178  \n",
       "2  0.760604  \n",
       "3  0.716910  \n",
       "4  0.767204  \n",
       "5  0.679007  \n",
       "6  0.574809  "
      ]
     },
     "execution_count": 21,
     "metadata": {},
     "output_type": "execute_result"
    }
   ],
   "source": [
    "results_df"
   ]
  },
  {
   "cell_type": "code",
   "execution_count": 22,
   "id": "9d330d5e",
   "metadata": {
    "execution": {
     "iopub.execute_input": "2025-07-07T17:12:49.326008Z",
     "iopub.status.busy": "2025-07-07T17:12:49.325626Z",
     "iopub.status.idle": "2025-07-07T17:12:49.333356Z",
     "shell.execute_reply": "2025-07-07T17:12:49.331637Z"
    },
    "papermill": {
     "duration": 0.018105,
     "end_time": "2025-07-07T17:12:49.335251",
     "exception": false,
     "start_time": "2025-07-07T17:12:49.317146",
     "status": "completed"
    },
    "tags": []
   },
   "outputs": [
    {
     "data": {
      "text/plain": [
       "{'Extra Trees': 0.5007813868633098,\n",
       " 'Random Forest': 0.49921861313669025,\n",
       " 'Decision Tree': 0.0,\n",
       " 'CatBoost': 0.0,\n",
       " 'XGBoost': 0.0,\n",
       " 'LightGBM': 0.0}"
      ]
     },
     "execution_count": 22,
     "metadata": {},
     "output_type": "execute_result"
    }
   ],
   "source": [
    "weights"
   ]
  },
  {
   "cell_type": "code",
   "execution_count": 27,
   "id": "c47ba24c",
   "metadata": {
    "execution": {
     "iopub.execute_input": "2025-07-07T17:15:30.157964Z",
     "iopub.status.busy": "2025-07-07T17:15:30.157483Z",
     "iopub.status.idle": "2025-07-07T17:16:27.275656Z",
     "shell.execute_reply": "2025-07-07T17:16:27.274544Z"
    },
    "papermill": {
     "duration": 57.129292,
     "end_time": "2025-07-07T17:16:27.277856",
     "exception": false,
     "start_time": "2025-07-07T17:15:30.148564",
     "status": "completed"
    },
    "tags": []
   },
   "outputs": [
    {
     "name": "stdout",
     "output_type": "stream",
     "text": [
      "Best model based on Precision: Ensemble\n"
     ]
    }
   ],
   "source": [
    "best_model_name = results_df.loc[0, 'Model']\n",
    "print(f\"Best model based on Precision: {best_model_name}\")\n",
    "\n",
    "if best_model_name == 'Ensemble':\n",
    "    test_probas = {}\n",
    "    for name, model in models.items():\n",
    "        if name in weights:\n",
    "            probas = model.predict_proba(test)\n",
    "            if probas.ndim == 2:\n",
    "                test_probas[name] = probas[:, 1] if probas.shape[1] > 1 else probas[:, 0]\n",
    "            else:\n",
    "                test_probas[name] = probas\n",
    "    \n",
    "    preds_proba = np.zeros(len(test))\n",
    "    for name in test_probas:\n",
    "        preds_proba += weights[name] * test_probas[name]\n",
    "    \n",
    "else:\n",
    "    best_model = models[best_model_name]\n",
    "    probas = best_model.predict_proba(test)\n",
    "    if probas.ndim == 2:\n",
    "        preds_proba = probas[:, 1] if probas.shape[1] > 1 else probas[:, 0]\n",
    "    else:\n",
    "        preds_proba = probas\n",
    "\n",
    "if isinstance(preds_proba, (int, float)):\n",
    "    preds_proba = np.full(len(test), preds_proba)\n",
    "elif len(preds_proba) != len(test):\n",
    "    raise ValueError(f\"Prediction array length ({len(preds_proba)}) doesn't match test data length ({len(test)})\")\n",
    "\n",
    "preds_proba = np.asarray(preds_proba).flatten()\n",
    "if isinstance(test, pd.DataFrame):\n",
    "    output_df = test.copy()\n",
    "    output_df['Predicted Probability'] = preds_proba\n",
    "else:\n",
    "    output_df = pd.DataFrame(test)\n",
    "    output_df['Predicted Probability'] = preds_proba\n",
    "\n",
    "test_df = pd.read_parquet(f\"{path}test_data.parquet\")\n",
    "test_df['pred'] = output_df['Predicted Probability'].values\n",
    "test_df = test_df[['id1', 'id2', 'id3', 'id5', 'pred']]"
   ]
  },
  {
   "cell_type": "code",
   "execution_count": 28,
   "id": "5ddf4fe3",
   "metadata": {
    "execution": {
     "iopub.execute_input": "2025-07-07T17:16:27.295168Z",
     "iopub.status.busy": "2025-07-07T17:16:27.294812Z",
     "iopub.status.idle": "2025-07-07T17:16:27.307489Z",
     "shell.execute_reply": "2025-07-07T17:16:27.306275Z"
    },
    "papermill": {
     "duration": 0.023085,
     "end_time": "2025-07-07T17:16:27.309338",
     "exception": false,
     "start_time": "2025-07-07T17:16:27.286253",
     "status": "completed"
    },
    "tags": []
   },
   "outputs": [
    {
     "data": {
      "text/html": [
       "<div>\n",
       "<style scoped>\n",
       "    .dataframe tbody tr th:only-of-type {\n",
       "        vertical-align: middle;\n",
       "    }\n",
       "\n",
       "    .dataframe tbody tr th {\n",
       "        vertical-align: top;\n",
       "    }\n",
       "\n",
       "    .dataframe thead th {\n",
       "        text-align: right;\n",
       "    }\n",
       "</style>\n",
       "<table border=\"1\" class=\"dataframe\">\n",
       "  <thead>\n",
       "    <tr style=\"text-align: right;\">\n",
       "      <th></th>\n",
       "      <th>id1</th>\n",
       "      <th>id2</th>\n",
       "      <th>id3</th>\n",
       "      <th>id5</th>\n",
       "      <th>pred</th>\n",
       "    </tr>\n",
       "  </thead>\n",
       "  <tbody>\n",
       "    <tr>\n",
       "      <th>46756</th>\n",
       "      <td>1362907_91950_16-23_2023-11-04 18:56:26.000794</td>\n",
       "      <td>1362907</td>\n",
       "      <td>91950</td>\n",
       "      <td>2023-11-04</td>\n",
       "      <td>0.074961</td>\n",
       "    </tr>\n",
       "    <tr>\n",
       "      <th>57819</th>\n",
       "      <td>1082599_88356_16-23_2023-11-04 06:08:53.373</td>\n",
       "      <td>1082599</td>\n",
       "      <td>88356</td>\n",
       "      <td>2023-11-04</td>\n",
       "      <td>0.157512</td>\n",
       "    </tr>\n",
       "    <tr>\n",
       "      <th>15390</th>\n",
       "      <td>1888466_958700_16-23_2023-11-05 10:07:28.000725</td>\n",
       "      <td>1888466</td>\n",
       "      <td>958700</td>\n",
       "      <td>2023-11-05</td>\n",
       "      <td>0.382691</td>\n",
       "    </tr>\n",
       "    <tr>\n",
       "      <th>145730</th>\n",
       "      <td>1888971_795739_16-23_2023-11-04 12:25:28.244</td>\n",
       "      <td>1888971</td>\n",
       "      <td>795739</td>\n",
       "      <td>2023-11-04</td>\n",
       "      <td>0.095008</td>\n",
       "    </tr>\n",
       "    <tr>\n",
       "      <th>146085</th>\n",
       "      <td>1256369_82296_16-23_2023-11-05 06:45:26.657</td>\n",
       "      <td>1256369</td>\n",
       "      <td>82296</td>\n",
       "      <td>2023-11-05</td>\n",
       "      <td>0.225023</td>\n",
       "    </tr>\n",
       "  </tbody>\n",
       "</table>\n",
       "</div>"
      ],
      "text/plain": [
       "                                                    id1      id2     id3  \\\n",
       "46756    1362907_91950_16-23_2023-11-04 18:56:26.000794  1362907   91950   \n",
       "57819       1082599_88356_16-23_2023-11-04 06:08:53.373  1082599   88356   \n",
       "15390   1888466_958700_16-23_2023-11-05 10:07:28.000725  1888466  958700   \n",
       "145730     1888971_795739_16-23_2023-11-04 12:25:28.244  1888971  795739   \n",
       "146085      1256369_82296_16-23_2023-11-05 06:45:26.657  1256369   82296   \n",
       "\n",
       "               id5      pred  \n",
       "46756   2023-11-04  0.074961  \n",
       "57819   2023-11-04  0.157512  \n",
       "15390   2023-11-05  0.382691  \n",
       "145730  2023-11-04  0.095008  \n",
       "146085  2023-11-05  0.225023  "
      ]
     },
     "execution_count": 28,
     "metadata": {},
     "output_type": "execute_result"
    }
   ],
   "source": [
    "test_df.head()"
   ]
  },
  {
   "cell_type": "code",
   "execution_count": 29,
   "id": "4f79e3bf",
   "metadata": {
    "execution": {
     "iopub.execute_input": "2025-07-07T17:16:27.327078Z",
     "iopub.status.busy": "2025-07-07T17:16:27.326157Z",
     "iopub.status.idle": "2025-07-07T17:16:28.931421Z",
     "shell.execute_reply": "2025-07-07T17:16:28.930532Z"
    },
    "papermill": {
     "duration": 1.61582,
     "end_time": "2025-07-07T17:16:28.933201",
     "exception": false,
     "start_time": "2025-07-07T17:16:27.317381",
     "status": "completed"
    },
    "tags": []
   },
   "outputs": [],
   "source": [
    "test_df.to_csv(\"/kaggle/working/r2_submission_PredictPulse.csv\", index=False)"
   ]
  }
 ],
 "metadata": {
  "kaggle": {
   "accelerator": "none",
   "dataSources": [
    {
     "datasetId": 7759160,
     "sourceId": 12309963,
     "sourceType": "datasetVersion"
    },
    {
     "datasetId": 7782231,
     "sourceId": 12344618,
     "sourceType": "datasetVersion"
    }
   ],
   "dockerImageVersionId": 31040,
   "isGpuEnabled": false,
   "isInternetEnabled": false,
   "language": "python",
   "sourceType": "notebook"
  },
  "kernelspec": {
   "display_name": "Python 3",
   "language": "python",
   "name": "python3"
  },
  "language_info": {
   "codemirror_mode": {
    "name": "ipython",
    "version": 3
   },
   "file_extension": ".py",
   "mimetype": "text/x-python",
   "name": "python",
   "nbconvert_exporter": "python",
   "pygments_lexer": "ipython3",
   "version": "3.11.11"
  },
  "papermill": {
   "default_parameters": {},
   "duration": 2108.282646,
   "end_time": "2025-07-07T17:16:40.039075",
   "environment_variables": {},
   "exception": null,
   "input_path": "__notebook__.ipynb",
   "output_path": "__notebook__.ipynb",
   "parameters": {},
   "start_time": "2025-07-07T16:41:31.756429",
   "version": "2.6.0"
  }
 },
 "nbformat": 4,
 "nbformat_minor": 5
}
